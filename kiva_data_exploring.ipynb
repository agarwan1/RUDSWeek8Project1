{
 "cells": [
  {
   "cell_type": "markdown",
   "metadata": {},
   "source": [
    "# Pre-processing"
   ]
  },
  {
   "cell_type": "code",
   "execution_count": 1,
   "metadata": {
    "collapsed": true
   },
   "outputs": [],
   "source": [
    "from kiva_data import KivaData\n",
    "\n",
    "df = KivaData(use_sample=True).loan_data\n",
    "\n",
    "\n",
    "df.describe()"
   ]
  },
  {
   "cell_type": "code",
   "execution_count": 4,
   "metadata": {},
   "outputs": [
    {
     "data": {
      "text/html": [
       "<div>\n",
       "<style scoped>\n",
       "    .dataframe tbody tr th:only-of-type {\n",
       "        vertical-align: middle;\n",
       "    }\n",
       "\n",
       "    .dataframe tbody tr th {\n",
       "        vertical-align: top;\n",
       "    }\n",
       "\n",
       "    .dataframe thead th {\n",
       "        text-align: right;\n",
       "    }\n",
       "</style>\n",
       "<table border=\"1\" class=\"dataframe\">\n",
       "  <thead>\n",
       "    <tr style=\"text-align: right;\">\n",
       "      <th></th>\n",
       "      <th>Unnamed: 0</th>\n",
       "      <th>Unnamed: 0.1</th>\n",
       "      <th>id</th>\n",
       "      <th>funded_amount</th>\n",
       "      <th>loan_amount</th>\n",
       "      <th>activity</th>\n",
       "      <th>sector</th>\n",
       "      <th>use</th>\n",
       "      <th>country_code</th>\n",
       "      <th>country</th>\n",
       "      <th>...</th>\n",
       "      <th>posted_time</th>\n",
       "      <th>disbursed_time</th>\n",
       "      <th>funded_time</th>\n",
       "      <th>term_in_months</th>\n",
       "      <th>lender_count</th>\n",
       "      <th>tags</th>\n",
       "      <th>borrower_genders</th>\n",
       "      <th>repayment_interval</th>\n",
       "      <th>date</th>\n",
       "      <th>gender</th>\n",
       "    </tr>\n",
       "  </thead>\n",
       "  <tbody>\n",
       "    <tr>\n",
       "      <th>0</th>\n",
       "      <td>6883</td>\n",
       "      <td>264956</td>\n",
       "      <td>912251</td>\n",
       "      <td>575.0</td>\n",
       "      <td>975.0</td>\n",
       "      <td>Grocery Store</td>\n",
       "      <td>Food</td>\n",
       "      <td>to buy more products such as meats, sausages, ...</td>\n",
       "      <td>HN</td>\n",
       "      <td>Honduras</td>\n",
       "      <td>...</td>\n",
       "      <td>2015-07-02 16:54:00</td>\n",
       "      <td>2015-06-12 07:00:00</td>\n",
       "      <td>NaT</td>\n",
       "      <td>20.0</td>\n",
       "      <td>19</td>\n",
       "      <td>user_favorite, #Single, #Supporting Family</td>\n",
       "      <td>male</td>\n",
       "      <td>monthly</td>\n",
       "      <td>2015-07-02</td>\n",
       "      <td>male</td>\n",
       "    </tr>\n",
       "    <tr>\n",
       "      <th>1</th>\n",
       "      <td>2531</td>\n",
       "      <td>541293</td>\n",
       "      <td>1201897</td>\n",
       "      <td>1000.0</td>\n",
       "      <td>1000.0</td>\n",
       "      <td>General Store</td>\n",
       "      <td>Retail</td>\n",
       "      <td>to buy rice, sugar, oil, detergent, and other ...</td>\n",
       "      <td>EC</td>\n",
       "      <td>Ecuador</td>\n",
       "      <td>...</td>\n",
       "      <td>2016-12-10 19:30:21</td>\n",
       "      <td>2016-11-24 08:00:00</td>\n",
       "      <td>2016-12-21 18:34:41</td>\n",
       "      <td>8.0</td>\n",
       "      <td>26</td>\n",
       "      <td>NaN</td>\n",
       "      <td>female</td>\n",
       "      <td>irregular</td>\n",
       "      <td>2016-12-10</td>\n",
       "      <td>female</td>\n",
       "    </tr>\n",
       "    <tr>\n",
       "      <th>2</th>\n",
       "      <td>5531</td>\n",
       "      <td>51283</td>\n",
       "      <td>703673</td>\n",
       "      <td>275.0</td>\n",
       "      <td>1275.0</td>\n",
       "      <td>Shoe Sales</td>\n",
       "      <td>Retail</td>\n",
       "      <td>to buy shoes.</td>\n",
       "      <td>TG</td>\n",
       "      <td>Togo</td>\n",
       "      <td>...</td>\n",
       "      <td>2014-04-28 15:10:26</td>\n",
       "      <td>2014-04-25 07:00:00</td>\n",
       "      <td>NaT</td>\n",
       "      <td>14.0</td>\n",
       "      <td>10</td>\n",
       "      <td>#Repeat Borrower, #Supporting Family, #Tourism</td>\n",
       "      <td>male</td>\n",
       "      <td>monthly</td>\n",
       "      <td>2014-04-28</td>\n",
       "      <td>male</td>\n",
       "    </tr>\n",
       "    <tr>\n",
       "      <th>3</th>\n",
       "      <td>2007</td>\n",
       "      <td>366592</td>\n",
       "      <td>1013657</td>\n",
       "      <td>1200.0</td>\n",
       "      <td>1200.0</td>\n",
       "      <td>Agriculture</td>\n",
       "      <td>Agriculture</td>\n",
       "      <td>to pay rent for a threshing machine and a grin...</td>\n",
       "      <td>SV</td>\n",
       "      <td>El Salvador</td>\n",
       "      <td>...</td>\n",
       "      <td>2016-01-25 20:38:35</td>\n",
       "      <td>2016-01-11 08:00:00</td>\n",
       "      <td>2016-02-25 21:34:35</td>\n",
       "      <td>20.0</td>\n",
       "      <td>37</td>\n",
       "      <td>#Parent, #Job Creator</td>\n",
       "      <td>male</td>\n",
       "      <td>monthly</td>\n",
       "      <td>2016-01-25</td>\n",
       "      <td>male</td>\n",
       "    </tr>\n",
       "    <tr>\n",
       "      <th>4</th>\n",
       "      <td>474</td>\n",
       "      <td>231058</td>\n",
       "      <td>878708</td>\n",
       "      <td>650.0</td>\n",
       "      <td>650.0</td>\n",
       "      <td>Higher education costs</td>\n",
       "      <td>Education</td>\n",
       "      <td>to pay higher education costs.</td>\n",
       "      <td>TJ</td>\n",
       "      <td>Tajikistan</td>\n",
       "      <td>...</td>\n",
       "      <td>2015-04-30 11:42:25</td>\n",
       "      <td>2015-04-24 07:00:00</td>\n",
       "      <td>2015-05-06 12:43:05</td>\n",
       "      <td>14.0</td>\n",
       "      <td>25</td>\n",
       "      <td>#Schooling, #Female Education, #Single, user_f...</td>\n",
       "      <td>female</td>\n",
       "      <td>monthly</td>\n",
       "      <td>2015-04-30</td>\n",
       "      <td>female</td>\n",
       "    </tr>\n",
       "  </tbody>\n",
       "</table>\n",
       "<p>5 rows × 23 columns</p>\n",
       "</div>"
      ],
      "text/plain": [
       "   Unnamed: 0  Unnamed: 0.1       id  funded_amount  loan_amount  \\\n",
       "0        6883        264956   912251          575.0        975.0   \n",
       "1        2531        541293  1201897         1000.0       1000.0   \n",
       "2        5531         51283   703673          275.0       1275.0   \n",
       "3        2007        366592  1013657         1200.0       1200.0   \n",
       "4         474        231058   878708          650.0        650.0   \n",
       "\n",
       "                 activity       sector  \\\n",
       "0           Grocery Store         Food   \n",
       "1           General Store       Retail   \n",
       "2              Shoe Sales       Retail   \n",
       "3             Agriculture  Agriculture   \n",
       "4  Higher education costs    Education   \n",
       "\n",
       "                                                 use country_code  \\\n",
       "0  to buy more products such as meats, sausages, ...           HN   \n",
       "1  to buy rice, sugar, oil, detergent, and other ...           EC   \n",
       "2                                      to buy shoes.           TG   \n",
       "3  to pay rent for a threshing machine and a grin...           SV   \n",
       "4                     to pay higher education costs.           TJ   \n",
       "\n",
       "       country   ...           posted_time      disbursed_time  \\\n",
       "0     Honduras   ...   2015-07-02 16:54:00 2015-06-12 07:00:00   \n",
       "1      Ecuador   ...   2016-12-10 19:30:21 2016-11-24 08:00:00   \n",
       "2         Togo   ...   2014-04-28 15:10:26 2014-04-25 07:00:00   \n",
       "3  El Salvador   ...   2016-01-25 20:38:35 2016-01-11 08:00:00   \n",
       "4   Tajikistan   ...   2015-04-30 11:42:25 2015-04-24 07:00:00   \n",
       "\n",
       "          funded_time term_in_months lender_count  \\\n",
       "0                 NaT           20.0           19   \n",
       "1 2016-12-21 18:34:41            8.0           26   \n",
       "2                 NaT           14.0           10   \n",
       "3 2016-02-25 21:34:35           20.0           37   \n",
       "4 2015-05-06 12:43:05           14.0           25   \n",
       "\n",
       "                                                tags  borrower_genders  \\\n",
       "0         user_favorite, #Single, #Supporting Family              male   \n",
       "1                                                NaN            female   \n",
       "2     #Repeat Borrower, #Supporting Family, #Tourism              male   \n",
       "3                              #Parent, #Job Creator              male   \n",
       "4  #Schooling, #Female Education, #Single, user_f...            female   \n",
       "\n",
       "   repayment_interval        date  gender  \n",
       "0             monthly  2015-07-02    male  \n",
       "1           irregular  2016-12-10  female  \n",
       "2             monthly  2014-04-28    male  \n",
       "3             monthly  2016-01-25    male  \n",
       "4             monthly  2015-04-30  female  \n",
       "\n",
       "[5 rows x 23 columns]"
      ]
     },
     "execution_count": 4,
     "metadata": {},
     "output_type": "execute_result"
    }
   ],
   "source": [
    "df.head()"
   ]
  },
  {
   "cell_type": "code",
   "execution_count": 5,
   "metadata": {},
   "outputs": [
    {
     "data": {
      "text/plain": [
       "411"
      ]
     },
     "execution_count": 5,
     "metadata": {},
     "output_type": "execute_result"
    }
   ],
   "source": [
    "len(df['borrower_genders'].unique())"
   ]
  },
  {
   "cell_type": "code",
   "execution_count": 14,
   "metadata": {
    "scrolled": true
   },
   "outputs": [
    {
     "data": {
      "image/png": "[encoded data removed]",
      "text/plain": [
       "<matplotlib.figure.Figure at 0x1150f6940>"
      ]
     },
     "metadata": {},
     "output_type": "display_data"
    }
   ],
   "source": [
    "import matplotlib.pyplot as plt\n",
    "df.groupby('gender').agg('count')[['loan_amount']].plot.pie(y='loan_amount')\n",
    "plt.\n",
    "plt.show()"
   ]
  },
  {
   "cell_type": "code",
   "execution_count": null,
   "metadata": {
    "collapsed": true
   },
   "outputs": [],
   "source": []
  },
  {
   "cell_type": "code",
   "execution_count": 7,
   "metadata": {},
   "outputs": [
    {
     "data": {
      "text/plain": [
       "array(['monthly', 'irregular', 'bullet', 'weekly'], dtype=object)"
      ]
     },
     "execution_count": 7,
     "metadata": {},
     "output_type": "execute_result"
    }
   ],
   "source": [
    "df.repayment_interval.unique()"
   ]
  },
  {
   "cell_type": "code",
   "execution_count": 8,
   "metadata": {
    "scrolled": true
   },
   "outputs": [
    {
     "data": {
      "text/html": [
       "<div>\n",
       "<style scoped>\n",
       "    .dataframe tbody tr th:only-of-type {\n",
       "        vertical-align: middle;\n",
       "    }\n",
       "\n",
       "    .dataframe tbody tr th {\n",
       "        vertical-align: top;\n",
       "    }\n",
       "\n",
       "    .dataframe thead th {\n",
       "        text-align: right;\n",
       "    }\n",
       "</style>\n",
       "<table border=\"1\" class=\"dataframe\">\n",
       "  <thead>\n",
       "    <tr style=\"text-align: right;\">\n",
       "      <th></th>\n",
       "      <th>Unnamed: 0</th>\n",
       "      <th>Unnamed: 0.1</th>\n",
       "      <th>id</th>\n",
       "      <th>funded_amount</th>\n",
       "      <th>loan_amount</th>\n",
       "      <th>partner_id</th>\n",
       "      <th>term_in_months</th>\n",
       "      <th>lender_count</th>\n",
       "    </tr>\n",
       "  </thead>\n",
       "  <tbody>\n",
       "    <tr>\n",
       "      <th>count</th>\n",
       "      <td>10000.00000</td>\n",
       "      <td>10000.000000</td>\n",
       "      <td>1.000000e+04</td>\n",
       "      <td>10000.000000</td>\n",
       "      <td>10000.000000</td>\n",
       "      <td>9799.000000</td>\n",
       "      <td>10000.000000</td>\n",
       "      <td>10000.00000</td>\n",
       "    </tr>\n",
       "    <tr>\n",
       "      <th>mean</th>\n",
       "      <td>4999.50000</td>\n",
       "      <td>336241.032300</td>\n",
       "      <td>9.939046e+05</td>\n",
       "      <td>777.205500</td>\n",
       "      <td>827.697500</td>\n",
       "      <td>178.780794</td>\n",
       "      <td>13.817300</td>\n",
       "      <td>20.58650</td>\n",
       "    </tr>\n",
       "    <tr>\n",
       "      <th>std</th>\n",
       "      <td>2886.89568</td>\n",
       "      <td>194016.646357</td>\n",
       "      <td>1.968474e+05</td>\n",
       "      <td>1045.109963</td>\n",
       "      <td>1085.719941</td>\n",
       "      <td>95.018000</td>\n",
       "      <td>8.849901</td>\n",
       "      <td>26.54376</td>\n",
       "    </tr>\n",
       "    <tr>\n",
       "      <th>min</th>\n",
       "      <td>0.00000</td>\n",
       "      <td>7.000000</td>\n",
       "      <td>6.530780e+05</td>\n",
       "      <td>0.000000</td>\n",
       "      <td>25.000000</td>\n",
       "      <td>9.000000</td>\n",
       "      <td>2.000000</td>\n",
       "      <td>0.00000</td>\n",
       "    </tr>\n",
       "    <tr>\n",
       "      <th>25%</th>\n",
       "      <td>2499.75000</td>\n",
       "      <td>167926.500000</td>\n",
       "      <td>8.234395e+05</td>\n",
       "      <td>250.000000</td>\n",
       "      <td>275.000000</td>\n",
       "      <td>126.000000</td>\n",
       "      <td>8.000000</td>\n",
       "      <td>7.00000</td>\n",
       "    </tr>\n",
       "    <tr>\n",
       "      <th>50%</th>\n",
       "      <td>4999.50000</td>\n",
       "      <td>338895.500000</td>\n",
       "      <td>9.957810e+05</td>\n",
       "      <td>450.000000</td>\n",
       "      <td>500.000000</td>\n",
       "      <td>145.000000</td>\n",
       "      <td>13.000000</td>\n",
       "      <td>13.00000</td>\n",
       "    </tr>\n",
       "    <tr>\n",
       "      <th>75%</th>\n",
       "      <td>7499.25000</td>\n",
       "      <td>502303.000000</td>\n",
       "      <td>1.162591e+06</td>\n",
       "      <td>900.000000</td>\n",
       "      <td>1000.000000</td>\n",
       "      <td>204.000000</td>\n",
       "      <td>14.000000</td>\n",
       "      <td>25.00000</td>\n",
       "    </tr>\n",
       "    <tr>\n",
       "      <th>max</th>\n",
       "      <td>9999.00000</td>\n",
       "      <td>671142.000000</td>\n",
       "      <td>1.339765e+06</td>\n",
       "      <td>35000.000000</td>\n",
       "      <td>35000.000000</td>\n",
       "      <td>533.000000</td>\n",
       "      <td>144.000000</td>\n",
       "      <td>1067.00000</td>\n",
       "    </tr>\n",
       "  </tbody>\n",
       "</table>\n",
       "</div>"
      ],
      "text/plain": [
       "        Unnamed: 0   Unnamed: 0.1            id  funded_amount   loan_amount  \\\n",
       "count  10000.00000   10000.000000  1.000000e+04   10000.000000  10000.000000   \n",
       "mean    4999.50000  336241.032300  9.939046e+05     777.205500    827.697500   \n",
       "std     2886.89568  194016.646357  1.968474e+05    1045.109963   1085.719941   \n",
       "min        0.00000       7.000000  6.530780e+05       0.000000     25.000000   \n",
       "25%     2499.75000  167926.500000  8.234395e+05     250.000000    275.000000   \n",
       "50%     4999.50000  338895.500000  9.957810e+05     450.000000    500.000000   \n",
       "75%     7499.25000  502303.000000  1.162591e+06     900.000000   1000.000000   \n",
       "max     9999.00000  671142.000000  1.339765e+06   35000.000000  35000.000000   \n",
       "\n",
       "        partner_id  term_in_months  lender_count  \n",
       "count  9799.000000    10000.000000   10000.00000  \n",
       "mean    178.780794       13.817300      20.58650  \n",
       "std      95.018000        8.849901      26.54376  \n",
       "min       9.000000        2.000000       0.00000  \n",
       "25%     126.000000        8.000000       7.00000  \n",
       "50%     145.000000       13.000000      13.00000  \n",
       "75%     204.000000       14.000000      25.00000  \n",
       "max     533.000000      144.000000    1067.00000  "
      ]
     },
     "execution_count": 8,
     "metadata": {},
     "output_type": "execute_result"
    }
   ],
   "source": [
    "df.describe()"
   ]
  },
  {
   "cell_type": "code",
   "execution_count": 9,
   "metadata": {
    "scrolled": false
   },
   "outputs": [
    {
     "data": {
      "text/plain": [
       "Index(['Unnamed: 0', 'Unnamed: 0.1', 'id', 'funded_amount', 'loan_amount',\n",
       "       'activity', 'sector', 'use', 'country_code', 'country', 'region',\n",
       "       'currency', 'partner_id', 'posted_time', 'disbursed_time',\n",
       "       'funded_time', 'term_in_months', 'lender_count', 'tags',\n",
       "       'borrower_genders', 'repayment_interval', 'date', 'gender'],\n",
       "      dtype='object')"
      ]
     },
     "execution_count": 9,
     "metadata": {},
     "output_type": "execute_result"
    }
   ],
   "source": [
    "df.columns"
   ]
  },
  {
   "cell_type": "code",
   "execution_count": 10,
   "metadata": {
    "scrolled": true
   },
   "outputs": [
    {
     "data": {
      "text/html": [
       "<div>\n",
       "<style scoped>\n",
       "    .dataframe tbody tr th:only-of-type {\n",
       "        vertical-align: middle;\n",
       "    }\n",
       "\n",
       "    .dataframe tbody tr th {\n",
       "        vertical-align: top;\n",
       "    }\n",
       "\n",
       "    .dataframe thead th {\n",
       "        text-align: right;\n",
       "    }\n",
       "</style>\n",
       "<table border=\"1\" class=\"dataframe\">\n",
       "  <thead>\n",
       "    <tr style=\"text-align: right;\">\n",
       "      <th></th>\n",
       "      <th>activity</th>\n",
       "      <th>sector</th>\n",
       "      <th>use</th>\n",
       "      <th>country_code</th>\n",
       "      <th>country</th>\n",
       "      <th>region</th>\n",
       "      <th>currency</th>\n",
       "      <th>partner_id</th>\n",
       "      <th>posted_time</th>\n",
       "      <th>disbursed_time</th>\n",
       "      <th>funded_time</th>\n",
       "      <th>tags</th>\n",
       "      <th>borrower_genders</th>\n",
       "      <th>repayment_interval</th>\n",
       "      <th>date</th>\n",
       "      <th>gender</th>\n",
       "    </tr>\n",
       "  </thead>\n",
       "  <tbody>\n",
       "    <tr>\n",
       "      <th>&lt;lambda&gt;</th>\n",
       "      <td>151</td>\n",
       "      <td>15</td>\n",
       "      <td>8537.0</td>\n",
       "      <td>77</td>\n",
       "      <td>77</td>\n",
       "      <td>2161.0</td>\n",
       "      <td>62</td>\n",
       "      <td>239.0</td>\n",
       "      <td>9998</td>\n",
       "      <td>1336</td>\n",
       "      <td>9240</td>\n",
       "      <td>3200.0</td>\n",
       "      <td>411.0</td>\n",
       "      <td>4</td>\n",
       "      <td>1226</td>\n",
       "      <td>3.0</td>\n",
       "    </tr>\n",
       "    <tr>\n",
       "      <th>count</th>\n",
       "      <td>10000</td>\n",
       "      <td>10000</td>\n",
       "      <td>9931.0</td>\n",
       "      <td>10000</td>\n",
       "      <td>10000</td>\n",
       "      <td>9153.0</td>\n",
       "      <td>10000</td>\n",
       "      <td>9799.0</td>\n",
       "      <td>10000</td>\n",
       "      <td>9971</td>\n",
       "      <td>9286</td>\n",
       "      <td>7472.0</td>\n",
       "      <td>9932.0</td>\n",
       "      <td>10000</td>\n",
       "      <td>10000</td>\n",
       "      <td>9932.0</td>\n",
       "    </tr>\n",
       "    <tr>\n",
       "      <th>max</th>\n",
       "      <td>Wholesale</td>\n",
       "      <td>Wholesale</td>\n",
       "      <td>NaN</td>\n",
       "      <td>ZW</td>\n",
       "      <td>Zimbabwe</td>\n",
       "      <td>NaN</td>\n",
       "      <td>ZMW</td>\n",
       "      <td>533.0</td>\n",
       "      <td>2017-07-14 06:58:25</td>\n",
       "      <td>2017-09-28 07:00:00</td>\n",
       "      <td>2017-07-16 08:22:36</td>\n",
       "      <td>NaN</td>\n",
       "      <td>NaN</td>\n",
       "      <td>weekly</td>\n",
       "      <td>2017-07-14</td>\n",
       "      <td>NaN</td>\n",
       "    </tr>\n",
       "    <tr>\n",
       "      <th>min</th>\n",
       "      <td>Agriculture</td>\n",
       "      <td>Agriculture</td>\n",
       "      <td>NaN</td>\n",
       "      <td>AL</td>\n",
       "      <td>Albania</td>\n",
       "      <td>NaN</td>\n",
       "      <td>ALL</td>\n",
       "      <td>9.0</td>\n",
       "      <td>2014-01-01 11:46:01</td>\n",
       "      <td>2013-12-09 08:00:00</td>\n",
       "      <td>2014-01-01 16:37:28</td>\n",
       "      <td>NaN</td>\n",
       "      <td>NaN</td>\n",
       "      <td>bullet</td>\n",
       "      <td>2014-01-01</td>\n",
       "      <td>NaN</td>\n",
       "    </tr>\n",
       "  </tbody>\n",
       "</table>\n",
       "</div>"
      ],
      "text/plain": [
       "             activity       sector     use country_code   country  region  \\\n",
       "<lambda>          151           15  8537.0           77        77  2161.0   \n",
       "count           10000        10000  9931.0        10000     10000  9153.0   \n",
       "max         Wholesale    Wholesale     NaN           ZW  Zimbabwe     NaN   \n",
       "min       Agriculture  Agriculture     NaN           AL   Albania     NaN   \n",
       "\n",
       "         currency  partner_id          posted_time       disbursed_time  \\\n",
       "<lambda>       62       239.0                 9998                 1336   \n",
       "count       10000      9799.0                10000                 9971   \n",
       "max           ZMW       533.0  2017-07-14 06:58:25  2017-09-28 07:00:00   \n",
       "min           ALL         9.0  2014-01-01 11:46:01  2013-12-09 08:00:00   \n",
       "\n",
       "                  funded_time    tags  borrower_genders repayment_interval  \\\n",
       "<lambda>                 9240  3200.0             411.0                  4   \n",
       "count                    9286  7472.0            9932.0              10000   \n",
       "max       2017-07-16 08:22:36     NaN               NaN             weekly   \n",
       "min       2014-01-01 16:37:28     NaN               NaN             bullet   \n",
       "\n",
       "                date  gender  \n",
       "<lambda>        1226     3.0  \n",
       "count          10000  9932.0  \n",
       "max       2017-07-14     NaN  \n",
       "min       2014-01-01     NaN  "
      ]
     },
     "execution_count": 10,
     "metadata": {},
     "output_type": "execute_result"
    }
   ],
   "source": [
    "df[['activity', 'sector', 'use', 'country_code', 'country', 'region', 'currency', 'partner_id',\n",
    "       'posted_time', 'disbursed_time', 'funded_time','tags', 'borrower_genders', 'repayment_interval',\n",
    "       'date', 'gender']].agg(['min', 'max', 'count', lambda x: len(x.unique())])"
   ]
  },
  {
   "cell_type": "code",
   "execution_count": 11,
   "metadata": {},
   "outputs": [
    {
     "data": {
      "text/plain": [
       "female    7661\n",
       "male      2271\n",
       "Name: gender, dtype: int64"
      ]
     },
     "execution_count": 11,
     "metadata": {},
     "output_type": "execute_result"
    }
   ],
   "source": [
    "df.gender.value_counts()"
   ]
  },
  {
   "cell_type": "code",
   "execution_count": 12,
   "metadata": {},
   "outputs": [
    {
     "data": {
      "text/plain": [
       "array(['Honduras', 'Ecuador', 'Togo', 'El Salvador', 'Tajikistan',\n",
       "       'Paraguay', 'Uganda', 'Philippines', 'Egypt', 'Kenya', 'Cambodia',\n",
       "       'Nicaragua', 'Indonesia', 'Tanzania', 'Bolivia', 'Peru',\n",
       "       'Palestine', 'Ghana', 'Mexico', 'Armenia', 'Pakistan', 'Georgia',\n",
       "       'India', 'Haiti', 'The Democratic Republic of the Congo',\n",
       "       'Colombia', 'Samoa', 'Guatemala', 'Burundi', 'Nigeria', 'Zimbabwe',\n",
       "       'Senegal', 'Mozambique', 'Kosovo', 'Iraq', 'Rwanda', 'Turkey',\n",
       "       'Suriname', 'Lebanon', 'Vietnam', 'Kyrgyzstan', 'United States',\n",
       "       'Liberia', 'Sierra Leone', 'Yemen', 'Myanmar (Burma)',\n",
       "       \"Lao People's Democratic Republic\", 'Costa Rica', 'Jordan', 'Mali',\n",
       "       'Israel', 'Mongolia', 'Timor-Leste', 'Lesotho', 'Burkina Faso',\n",
       "       'Nepal', 'Azerbaijan', 'Cameroon', 'Zambia', 'Somalia', 'Albania',\n",
       "       'Ukraine', 'South Africa', 'Madagascar', 'Malawi', 'China',\n",
       "       'Benin', 'Dominican Republic', 'Solomon Islands', 'Moldova',\n",
       "       'Panama', 'Brazil', 'Thailand', 'South Sudan', 'Puerto Rico',\n",
       "       'Belize', 'Congo'], dtype=object)"
      ]
     },
     "execution_count": 12,
     "metadata": {},
     "output_type": "execute_result"
    }
   ],
   "source": [
    "df.country.unique()"
   ]
  },
  {
   "cell_type": "code",
   "execution_count": 13,
   "metadata": {
    "scrolled": false
   },
   "outputs": [
    {
     "data": {
      "text/plain": [
       "Philippines                         2350\n",
       "Kenya                               1136\n",
       "El Salvador                          596\n",
       "Cambodia                             531\n",
       "Pakistan                             397\n",
       "Colombia                             321\n",
       "Peru                                 309\n",
       "Uganda                               284\n",
       "Tajikistan                           283\n",
       "Ecuador                              205\n",
       "India                                188\n",
       "Paraguay                             176\n",
       "Vietnam                              169\n",
       "Nicaragua                            166\n",
       "Nigeria                              154\n",
       "Bolivia                              154\n",
       "Armenia                              124\n",
       "Palestine                            121\n",
       "Lebanon                              115\n",
       "Samoa                                108\n",
       "Guatemala                            106\n",
       "Indonesia                            104\n",
       "Mali                                  95\n",
       "Mexico                                93\n",
       "United States                         91\n",
       "Tanzania                              89\n",
       "Honduras                              89\n",
       "Rwanda                                87\n",
       "Togo                                  84\n",
       "Kyrgyzstan                            79\n",
       "                                    ... \n",
       "Yemen                                 27\n",
       "Egypt                                 27\n",
       "Myanmar (Burma)                       27\n",
       "Cameroon                              25\n",
       "Lao People's Democratic Republic      23\n",
       "Azerbaijan                            23\n",
       "Malawi                                23\n",
       "Ukraine                               20\n",
       "Zambia                                20\n",
       "Burundi                               17\n",
       "Iraq                                  15\n",
       "Mongolia                              15\n",
       "Nepal                                 12\n",
       "Dominican Republic                    10\n",
       "Lesotho                                9\n",
       "South Africa                           7\n",
       "Benin                                  7\n",
       "Solomon Islands                        7\n",
       "Brazil                                 4\n",
       "Israel                                 3\n",
       "Somalia                                3\n",
       "Suriname                               2\n",
       "Panama                                 2\n",
       "Moldova                                2\n",
       "South Sudan                            2\n",
       "Belize                                 2\n",
       "Thailand                               2\n",
       "Puerto Rico                            2\n",
       "China                                  2\n",
       "Congo                                  1\n",
       "Name: country, Length: 77, dtype: int64"
      ]
     },
     "execution_count": 13,
     "metadata": {},
     "output_type": "execute_result"
    }
   ],
   "source": [
    "df.country.value_counts()"
   ]
  },
  {
   "cell_type": "code",
   "execution_count": null,
   "metadata": {
    "collapsed": true
   },
   "outputs": [],
   "source": []
  },
  {
   "cell_type": "code",
   "execution_count": 42,
   "metadata": {
    "collapsed": true
   },
   "outputs": [],
   "source": []
  },
  {
   "cell_type": "code",
   "execution_count": 42,
   "metadata": {
    "collapsed": true
   },
   "outputs": [],
   "source": []
  },
  {
   "cell_type": "code",
   "execution_count": null,
   "metadata": {
    "collapsed": true
   },
   "outputs": [],
   "source": []
  }
 ],
 "metadata": {
  "kernelspec": {
   "display_name": "Python 3",
   "language": "python",
   "name": "python3"
  },
  "language_info": {
   "codemirror_mode": {
    "name": "ipython",
    "version": 3
   },
   "file_extension": ".py",
   "mimetype": "text/x-python",
   "name": "python",
   "nbconvert_exporter": "python",
   "pygments_lexer": "ipython3",
   "version": "3.6.3"
  }
 },
 "nbformat": 4,
 "nbformat_minor": 2
}
