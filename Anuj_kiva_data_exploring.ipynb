{
 "cells": [
  {
   "cell_type": "code",
   "execution_count": 1,
   "metadata": {},
   "outputs": [
    {
     "ename": "ModuleNotFoundError",
     "evalue": "No module named 'narcos.fixer_config'",
     "output_type": "error",
     "traceback": [
      "\u001b[1;31m---------------------------------------------------------------------------\u001b[0m",
      "\u001b[1;31mModuleNotFoundError\u001b[0m                       Traceback (most recent call last)",
      "\u001b[1;32m<ipython-input-1-30ca744da034>\u001b[0m in \u001b[0;36m<module>\u001b[1;34m()\u001b[0m\n\u001b[0;32m      3\u001b[0m \u001b[1;32mfrom\u001b[0m \u001b[0mnarcos\u001b[0m\u001b[1;33m.\u001b[0m\u001b[0mkiva_data\u001b[0m \u001b[1;32mimport\u001b[0m \u001b[0mKivaData\u001b[0m\u001b[1;33m\u001b[0m\u001b[0m\n\u001b[0;32m      4\u001b[0m \u001b[1;32mimport\u001b[0m \u001b[0mrequests\u001b[0m\u001b[1;33m\u001b[0m\u001b[0m\n\u001b[1;32m----> 5\u001b[1;33m \u001b[1;32mfrom\u001b[0m \u001b[0mnarcos\u001b[0m\u001b[1;33m.\u001b[0m\u001b[0mfixer_config\u001b[0m \u001b[1;32mimport\u001b[0m \u001b[0maccess_key\u001b[0m\u001b[1;33m\u001b[0m\u001b[0m\n\u001b[0m\u001b[0;32m      6\u001b[0m \u001b[1;32mimport\u001b[0m \u001b[0mjson\u001b[0m\u001b[1;33m\u001b[0m\u001b[0m\n\u001b[0;32m      7\u001b[0m \u001b[1;32mimport\u001b[0m \u001b[0mnumpy\u001b[0m \u001b[1;32mas\u001b[0m \u001b[0mnp\u001b[0m\u001b[1;33m\u001b[0m\u001b[0m\n",
      "\u001b[1;31mModuleNotFoundError\u001b[0m: No module named 'narcos.fixer_config'"
     ]
    }
   ],
   "source": [
    "from forex_python.converter import CurrencyRates\n",
    "import matplotlib.pyplot as plt\n",
    "from narcos.kiva_data import KivaData\n",
    "import requests\n",
    "from narcos.fixer_config import access_key\n",
    "import json\n",
    "import numpy as np\n"
   ]
  },
  {
   "cell_type": "code",
   "execution_count": null,
   "metadata": {
    "collapsed": true
   },
   "outputs": [],
   "source": [
    "from narcos.kiva_data import KivaData\n",
    "from forex_python.converter import CurrencyRates\n",
    "from functools import partial\n",
    "import seaborn as sns"
   ]
  },
  {
   "cell_type": "code",
   "execution_count": null,
   "metadata": {},
   "outputs": [],
   "source": [
    "kiva_data = KivaData(use_sample=True)\n",
    "df = kiva_data.loan_data\n",
    "\n",
    "df.head(1)"
   ]
  },
  {
   "cell_type": "code",
   "execution_count": null,
   "metadata": {
    "collapsed": true
   },
   "outputs": [],
   "source": [
    "def plot_country_by_loan_amount():\n",
    "    country_df = df[['country','loan_amount']].groupby(\"country\").sum()\n",
    "    country_df['loan_ranked'] = df[['country','loan_amount']].groupby(\"country\").sum().rank(ascending=True)\n",
    "    country_df_filtered = country_df[country_df['loan_ranked'] <20]\n",
    "    #c = country_df.groupby(\"country\").agg('sum')[['loan_amount']]/100000\n",
    "    country_df_filtered.reset_index(inplace=True)\n",
    "    print(country_df_filtered)\n",
    "\n",
    "    country_df_filtered.plot.bar(x='country',y='loan_amount', color=['b','r', 'y','g','c', 'silver','m','k'], align='center',figsize=(20,4))\n",
    "\n",
    "    plt.title(\"Country / Loan Plot\")\n",
    "    plt.xlabel(\"Country Name\")\n",
    "    plt.ylabel(\"Loan Amount\")\n",
    "    plt.savefig(\"CountryByLoan\"+\".png\")\n",
    "    #plt.show()"
   ]
  },
  {
   "cell_type": "code",
   "execution_count": null,
   "metadata": {},
   "outputs": [],
   "source": [
    "plot_country_by_loan_amount()"
   ]
  },
  {
   "cell_type": "code",
   "execution_count": null,
   "metadata": {
    "collapsed": true
   },
   "outputs": [],
   "source": []
  },
  {
   "cell_type": "code",
   "execution_count": null,
   "metadata": {
    "collapsed": true
   },
   "outputs": [],
   "source": [
    "def loans_by_gender(df):\n",
    "    df.groupby('gender').agg('count')[['loan_amount']].plot.pie(y='loan_amount')\n",
    "    #plt.show()"
   ]
  },
  {
   "cell_type": "code",
   "execution_count": null,
   "metadata": {},
   "outputs": [],
   "source": [
    "loans_by_gender(df)"
   ]
  },
  {
   "cell_type": "code",
   "execution_count": null,
   "metadata": {
    "collapsed": true
   },
   "outputs": [],
   "source": [
    "def plot_sector_by_loan_amount():\n",
    "    sector_df = df[['sector','loan_amount']].groupby(\"sector\").sum()\n",
    "    sector_df['loan_ranked'] = df[['sector','loan_amount']].groupby(\"sector\").sum().rank(ascending=True)\n",
    "    sector_df_filtered = sector_df[sector_df['loan_ranked'] <20]\n",
    "    #c = country_df.groupby(\"country\").agg('sum')[['loan_amount']]/100000\n",
    "    sector_df_filtered.reset_index(inplace=True)\n",
    "    print(sector_df_filtered)\n",
    "\n",
    "    sector_df_filtered.plot.bar(x='sector',y='loan_amount', color=['g'], align='center',figsize=(20,4))\n",
    "\n",
    "    plt.title(\"Sector / Loan Plot\")\n",
    "    plt.xlabel(\"Sector Name\")\n",
    "    plt.ylabel(\"Loan Amount\")\n",
    "    plt.savefig(\"SectorByLoan\"+\".png\")\n",
    "    #plt.show()"
   ]
  },
  {
   "cell_type": "code",
   "execution_count": null,
   "metadata": {},
   "outputs": [],
   "source": [
    "plot_sector_by_loan_amount()"
   ]
  },
  {
   "cell_type": "code",
   "execution_count": null,
   "metadata": {
    "collapsed": true
   },
   "outputs": [],
   "source": []
  }
 ],
 "metadata": {
  "kernelspec": {
   "display_name": "Python 3",
   "language": "python",
   "name": "python3"
  },
  "language_info": {
   "codemirror_mode": {
    "name": "ipython",
    "version": 3
   },
   "file_extension": ".py",
   "mimetype": "text/x-python",
   "name": "python",
   "nbconvert_exporter": "python",
   "pygments_lexer": "ipython3",
   "version": "3.6.3"
  }
 },
 "nbformat": 4,
 "nbformat_minor": 2
}
